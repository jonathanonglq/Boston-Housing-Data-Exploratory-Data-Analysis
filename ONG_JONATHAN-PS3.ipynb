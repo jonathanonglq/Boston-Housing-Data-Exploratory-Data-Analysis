{
 "cells": [
  {
   "cell_type": "markdown",
   "metadata": {},
   "source": [
    "# Problem Set 3, due October 1 at 11:59pm.\n",
    "\n",
    "### Before You Start\n",
    "\n",
    "Make sure the following libraries load correctly (hit Ctrl-Enter). Note that while you are loading several powerful libraries, including machine learning libraries, the goal of this problem set is to implement several algorithms from scratch. In particular, you should *not* be using any built-in libraries for nearest neighbors, distance metrics, or cross-validation -- your mission is to write those algorithms in Python! Part 1 will be relatively easy; Part 2 will take more time."
   ]
  },
  {
   "cell_type": "code",
   "execution_count": 1,
   "metadata": {},
   "outputs": [],
   "source": [
    "import IPython\n",
    "import numpy as np\n",
    "import scipy as sp\n",
    "import pandas as pd\n",
    "import matplotlib.pyplot as plt\n",
    "import sklearn"
   ]
  },
  {
   "cell_type": "markdown",
   "metadata": {},
   "source": [
    "---\n",
    "\n",
    "## Introduction to the assignment\n",
    "\n",
    "For this assignment, you will be using the [Boston Housing Prices Data Set](http://www.kellogg.northwestern.edu/faculty/weber/emp/_session_3/boston.htm).  Please read about the dataset carefully before continuing.  Use the following commands to load the dataset:\n"
   ]
  },
  {
   "cell_type": "code",
   "execution_count": 2,
   "metadata": {},
   "outputs": [],
   "source": [
    "from sklearn.datasets import load_boston\n",
    "bdata = load_boston()"
   ]
  },
  {
   "cell_type": "markdown",
   "metadata": {},
   "source": [
    "---\n",
    "\n",
    "## Part 1: Experimental Setup\n",
    "\n",
    "The goal of the next few sections is to design an experiment to predict the median home value for an instance in the data.\n",
    "Before beginning the \"real\" work, refamiliarize yourself with the dataset."
   ]
  },
  {
   "cell_type": "markdown",
   "metadata": {},
   "source": [
    "### 1.1 Begin by writing a function to compute the Root Mean Squared Error for a list of numbers\n",
    "\n",
    "You can find the sqrt function in the Numpy package. Furthermore the details of RMSE can be found on [Wikipedia](http://en.wikipedia.org/wiki/Root-mean-square_deviation). Do not use a built-in function (other than sqrt) to compute RMSE.\n",
    "\n"
   ]
  },
  {
   "cell_type": "code",
   "execution_count": 3,
   "metadata": {},
   "outputs": [],
   "source": [
    "\"\"\"\n",
    "Function\n",
    "--------\n",
    "compute_rmse\n",
    "\n",
    "Given two arrays, one of actual values and one of predicted values,\n",
    "compute the Roote Mean Squared Error\n",
    "\n",
    "Parameters\n",
    "----------\n",
    "predictions : array\n",
    "    Array of numerical values corresponding to predictions for each of the N observations\n",
    "\n",
    "yvalues : array\n",
    "    Array of numerical values corresponding to the actual values for each of the N observations\n",
    "\n",
    "Returns\n",
    "-------\n",
    "rmse : int\n",
    "    Root Mean Squared Error of the prediction\n",
    "\n",
    "Example\n",
    "-------\n",
    ">>> print(compute_rmse((2,2,3),(0,2,6)))\n",
    "2.08\n",
    "\"\"\"\n",
    "\n",
    "def compute_rmse(predictions, yvalues):\n",
    "    predictions = np.asarray(predictions)\n",
    "    yvalues = np.asarray(yvalues)\n",
    "    rmse = np.sqrt(np.mean((predictions - yvalues)**2))\n",
    "    return rmse\n",
    "    "
   ]
  },
  {
   "cell_type": "markdown",
   "metadata": {},
   "source": [
    "### 1.2 Divide your data into training and testing datasets\n",
    "\n",
    "Randomly select 80% of the data and put this in a training dataset (call this \"bdata_train\"), and place the remaining 20% in a testing dataset (call this \"bdata_test\")\n"
   ]
  },
  {
   "cell_type": "code",
   "execution_count": 4,
   "metadata": {},
   "outputs": [
    {
     "name": "stdout",
     "output_type": "stream",
     "text": [
      "Length of training set X:  404\n",
      "Length of test set X:  102\n"
     ]
    }
   ],
   "source": [
    "# leave the following line untouched, it will help ensure that your \"random\" split is the same \"random\" split used by the rest of the class\n",
    "import random\n",
    "np.random.seed(seed=13579)\n",
    "\n",
    "X = pd.DataFrame(bdata.data, columns = bdata.feature_names)\n",
    "X['MEDV'] = pd.DataFrame(bdata.target)\n",
    "p = 0.8\n",
    "\n",
    "train_idx = np.random.choice(range(len(X)), int(len(X)*p), replace = False)\n",
    "test_idx = list(set(range(len(X['MEDV']))) - set(list(train_idx)))\n",
    "bdata_train = X.iloc[train_idx, :]\n",
    "bdata_test = X.iloc[test_idx, :]\n",
    "print('Length of training set X: ', len(bdata_train))\n",
    "print('Length of test set X: ', len(bdata_test))"
   ]
  },
  {
   "cell_type": "markdown",
   "metadata": {},
   "source": [
    "### 1.3 Use a very bad baseline for prediction, and compute RMSE\n",
    "\n",
    "Create a model that predicts, for every observation x_i, that the median home value is the average (mean) of the median values for all instances in the training set.  Specifically, do the following:\n",
    "1. Compute the RMSE of the training set.\n",
    "2. Now compute the RMSE on the test data set (but use the model you trained on the training set!).\n",
    "3. How does RMSE compare for training vs. testing datasets? Is this what you expected, and why?\n",
    "4. Create a scatter plot that shows the true value of each instance on the x-axis and the predicted value of each instance on the y-axis. Color the training instances in blue and the test instances in red. Make sure to label your axes appropriately, and add a legend to your figure to make clear which dots are which.\n",
    "5. Add code to your function to measure the running time of your algorithm. How long does it take to compute the predicted values for the test data?"
   ]
  },
  {
   "cell_type": "code",
   "execution_count": 5,
   "metadata": {},
   "outputs": [
    {
     "name": "stdout",
     "output_type": "stream",
     "text": [
      "The RMSE of the training set is : 9.207281207825492\n",
      "The RMSE of the test set is : 9.11139618372449\n",
      "Time required to compute predicted values for test data:  0.0011593980919868104 s\n"
     ]
    },
    {
     "data": {
      "text/plain": [
       "<matplotlib.legend.Legend at 0x2b5a44461d0>"
      ]
     },
     "execution_count": 5,
     "metadata": {},
     "output_type": "execute_result"
    },
    {
     "data": {
      "image/png": "[encoded data removed]",
      "text/plain": [
       "<matplotlib.figure.Figure at 0x2b5a3146828>"
      ]
     },
     "metadata": {},
     "output_type": "display_data"
    }
   ],
   "source": [
    "import time\n",
    "\n",
    "#compute RMSE of the training set\n",
    "mean_y = np.mean(bdata_train['MEDV'])\n",
    "mean_y_train = [mean_y] * len(bdata_train['MEDV'])\n",
    "rmse_train = compute_rmse(mean_y_train, bdata_train['MEDV'])\n",
    "print('The RMSE of the training set is :', rmse_train)\n",
    "\n",
    "#compute RMSE of the test set and measure running time\n",
    "t_start = time.clock()\n",
    "mean_y = np.mean(bdata_train['MEDV'])\n",
    "mean_y_test = [mean_y] * len(bdata_test['MEDV'])\n",
    "rmse_test = compute_rmse(mean_y_test, bdata_test['MEDV'])\n",
    "t_end = time.clock()\n",
    "print('The RMSE of the test set is :', rmse_test)\n",
    "print('Time required to compute predicted values for test data: ', t_end - t_start,'s')\n",
    "\n",
    "fig, ax = plt.subplots(figsize = (12,6))\n",
    "ax.scatter(bdata_train['MEDV'], mean_y_train, color = 'blue')\n",
    "ax.scatter(bdata_test['MEDV'], mean_y_test, color = 'red')\n",
    "ax.set_xlabel('True Median Home Value (in 1000\\'s)')\n",
    "ax.set_ylabel('Predicted Median Home Value (in 1000\\'s)')\n",
    "ax.legend(['Training Instances', 'Test Instances'])\n"
   ]
  },
  {
   "cell_type": "markdown",
   "metadata": {},
   "source": [
    "**Section 1.3**\n",
    "\n",
    "**Answers :**\n",
    "\n",
    "**Q1 :** The RMSE of the training data set is about 9.21.\n",
    "\n",
    "**Q2 :** The RMSE of the test data set is 9.11.\n",
    "\n",
    "**Q3 :** The RMSE for both the training and data set are very similar. This is expected because we are merely using the _mean_ of the median housing values to predict for all instances. Subsequently, the model \"trained\" will not overfit the training data set, and we expect to see similar performances in both training and test data set predictions. _(While they have similar RMSE, both performed poorly.)_\n",
    "\n",
    "**Q5 :** It takes 0.0010472874150622147 seconds to compute the predicted values for the test data."
   ]
  },
  {
   "cell_type": "markdown",
   "metadata": {},
   "source": [
    "---\n",
    "\n",
    "## Part 2: Nearest Neighbors\n"
   ]
  },
  {
   "cell_type": "markdown",
   "metadata": {},
   "source": [
    "### 2.1 Nearest Neighbors: Distance function\n",
    "Let's try and build a machine learning algorithm to beat the \"Average Value\" baseline that you computed above.  Soon you will implement the Nearest Neighbor algorithm, but first you need to create a distance metric to measure the distance (and similarity) between two instances.  Write a generic function to compute the L-Norm distance (called the [*p*-norm][1] distance on Wikipedia). Verify that your function works by computing the Euclidean distance between the points (3,4) and (6,8).\n",
    "[1]: https://en.wikipedia.org/wiki/Norm_(mathematics)#p-norm"
   ]
  },
  {
   "cell_type": "code",
   "execution_count": 6,
   "metadata": {},
   "outputs": [],
   "source": [
    "\"\"\"\n",
    "Function\n",
    "--------\n",
    "distance\n",
    "\n",
    "Given two instances and a value for L, return the L-Norm distance between them\n",
    "\n",
    "Parameters\n",
    "----------\n",
    "x1, x2 : array\n",
    "    Array of numerical values corresponding to predictions for each of the N observations\n",
    "\n",
    "L: int\n",
    "    Value of L to use in computing distances\n",
    "\n",
    "Returns\n",
    "-------\n",
    "dist : int\n",
    "    The L-norm distance between instances\n",
    "\n",
    "Example\n",
    "-------\n",
    ">>> print(distance((3,4),(6,8),2))\n",
    "5\n",
    "\n",
    "\"\"\"\n",
    "def distance(x1, x2, L):\n",
    "    x1 = np.asarray(x1)\n",
    "    x2 = np.asarray(x2)\n",
    "    dist = np.sum((np.abs(x1-x2))**L, axis = 1)**(1/L)\n",
    "    return dist"
   ]
  },
  {
   "cell_type": "markdown",
   "metadata": {},
   "source": [
    "**_Note that the function distance() has been modified to work on arrays (using axis = 1) so that the distances between pairs of points can be calculated efficiently._**"
   ]
  },
  {
   "cell_type": "markdown",
   "metadata": {},
   "source": [
    "### 2.2 Basic Nearest Neighbor algorithm\n",
    "\n",
    "Your next task is to implement a basic nearest neighbor algorithm from scratch.  Your simple model will use two input features (CRIM and RM) and a single output (MEDV).  In other words, you are modelling the relationship between median home value and crime rates and house size.\n",
    "\n",
    "Use your training data (bdata_train) to \"fit\" your model, although as you know, with Nearest Neighbors there is no real training, you just need to keep your training data in memory.  Write a function that predicts the median home value using the nearest neighbor algorithm we discussed in class.  Since this is a small dataset, you can simply compare your test instance to every instance in the training set, and return the MEDV value of the closest training instance.  Have your function take L as an input, where L is passed to the distance function.\n",
    "\n",
    "Make sure to do the following\n",
    "1. Fill in the function specification below\n",
    "2. Use your algorithm to predict the median home value of every instance in the test set. Report the RMSE (\"test RMSE\")\n",
    "3. Use your algorithm to predict the median home value of every instance in the training set and report the training RMSE.\n",
    "4. Create a scatter plot that shows the true value of each instance on the x-axis and the predicted value of each instance on the y-axis. Color the training instances in blue and the test instances in red. \n",
    "5. Report an estimate of the total time taken by your code to predict the nearest neighbors for all the values in the test data set.\n",
    "6. How does the performance (test RMSE and total runtime) of your nearest neighbors algorithm compare to the baseline in part 1.4?"
   ]
  },
  {
   "cell_type": "code",
   "execution_count": 7,
   "metadata": {},
   "outputs": [],
   "source": [
    "\"\"\"\n",
    "Function\n",
    "--------\n",
    "nneighbor\n",
    "\n",
    "Given a training set containing features and the target, predict target value for each instance in test set using basic nearest neighbors.\n",
    "\n",
    "Parameters\n",
    "----------\n",
    "df_train_X, df_train_y : pandas dataframe\n",
    "    Dataframe of values corresponding to predictive features and corresponding predictions.\n",
    "\n",
    "df_test_X, df_test_y : pandas dataframe\n",
    "    Dataframe df_test_X is used to predict df_test_y. df_test_y will be used calculate the RMSE of predicted y values.\n",
    "    \n",
    "trainSet: int (0 or 1)\n",
    "    Report RMSE of train set or test set. '0' selects test set while '1' selects training set.\n",
    "    \n",
    "L: int\n",
    "    Value of L to use in computing distances.\n",
    "\n",
    "Returns\n",
    "-------\n",
    "rmse : float\n",
    "    The RMSE between predicted target values and actual target values. \n",
    "\n",
    "predicted_y : list\n",
    "    An array containing predicted target values. \n",
    "\n",
    "\"\"\"\n",
    "def nneighbor(df_train_X, df_test_X, df_train_y, df_test_y, trainSet, L):\n",
    "    start_time = time.time()\n",
    "    df_X = df_test_X # default is test set\n",
    "    df_Y = df_test_y\n",
    "    if trainSet == 1:\n",
    "        df_X = df_train_X\n",
    "        df_Y = df_train_y\n",
    "        \n",
    "    predicted_y = []\n",
    "            \n",
    "    for i in range(len(df_X)):\n",
    "        dist = list(distance(df_X.iloc[i,:], df_train_X, L))\n",
    "        \n",
    "        if trainSet == 1: # choose second smallest distance if we are calculating RMSE of training set\n",
    "            df_train_ydrop = df_train_y.drop(df_train_y.index[np.argmin(dist)])\n",
    "            dist.pop(np.argmin(dist))\n",
    "            predict = df_train_ydrop.iloc[np.argmin(dist),:][0]\n",
    "            predicted_y.append([predict])\n",
    "        \n",
    "        else:\n",
    "            predict = df_train_y.iloc[np.argmin(dist),:][0]\n",
    "            predicted_y.append([predict])\n",
    "\n",
    "    rmse = compute_rmse(predicted_y, df_Y)\n",
    "    print(\"Time taken: {:.5f} seconds\".format(time.time() - start_time))\n",
    "    return (rmse, predicted_y)"
   ]
  },
  {
   "cell_type": "code",
   "execution_count": 8,
   "metadata": {},
   "outputs": [
    {
     "name": "stdout",
     "output_type": "stream",
     "text": [
      "Time taken: 0.11396 seconds\n",
      "Time taken: 1.12604 seconds\n",
      "The test RMSE is : 7.706172723162627\n",
      "The training RMSE (second lowest) is: 6.588825674001114\n"
     ]
    }
   ],
   "source": [
    "import time \n",
    "features = ['CRIM', 'RM']\n",
    "L = 2\n",
    "\n",
    "df_train_X = bdata_train.loc[:,features]\n",
    "df_test_X = bdata_test.loc[:,features]\n",
    "df_train_y = pd.DataFrame(bdata_train.loc[:,'MEDV'])\n",
    "df_test_y = pd.DataFrame(bdata_test.loc[:,'MEDV'])\n",
    "\n",
    "test_rmse, predicted_test = nneighbor(df_train_X, df_test_X, df_train_y, df_test_y, 0, L)\n",
    "training_rmse, predicted_train = nneighbor(df_train_X, df_test_X, df_train_y, df_test_y, 1, L)\n",
    "print('The test RMSE is :', test_rmse)\n",
    "print('The training RMSE (second lowest) is:', training_rmse)"
   ]
  },
  {
   "cell_type": "code",
   "execution_count": 9,
   "metadata": {
    "scrolled": false
   },
   "outputs": [
    {
     "data": {
      "text/plain": [
       "<matplotlib.legend.Legend at 0x2b5a44d3fd0>"
      ]
     },
     "execution_count": 9,
     "metadata": {},
     "output_type": "execute_result"
    },
    {
     "data": {
      "image/png": "[encoded data removed]",
      "text/plain": [
       "<matplotlib.figure.Figure at 0x2b5a460b940>"
      ]
     },
     "metadata": {},
     "output_type": "display_data"
    }
   ],
   "source": [
    "fig, ax = plt.subplots(figsize = (12,6))\n",
    "ax.scatter(bdata_train['MEDV'], predicted_train, color = 'blue')\n",
    "ax.scatter(bdata_test['MEDV'], predicted_test, color = 'red')\n",
    "ax.set_xlabel('True Median Home Value (in 1000\\'s)')\n",
    "ax.set_ylabel('Predicted Median Home Value (in 1000\\'s)')\n",
    "ax.legend(['Training Instances', 'Test Instances'])"
   ]
  },
  {
   "cell_type": "markdown",
   "metadata": {},
   "source": [
    "**Section 2.2**\n",
    "\n",
    "**Answers :**\n",
    "\n",
    "**Q2 :** The test RMSE obtained is about 7.71.\n",
    "\n",
    "**Q3 :** The training RMSE obtained is 0.0. The second lowest RMSE obtained is 6.59.\n",
    "\n",
    "**Q5 :** The total time taken to predict the values in the test data set is 0.13093 seconds.\n",
    "\n",
    "**Q6 :** The test RMSE of approximately 7.71 obtained from the nearest neighbor algorithm is significantly better than the baseline test RMSE of approximately 9.11. However, the nearest neighbor algorithm took about 0.131 seconds, while the baseline predictor took about 0.00105 seconds. Hence, while the nearest neighbor algorithm is better in terms of prediction accuracy, it is also slower than the baseline predictor. "
   ]
  },
  {
   "cell_type": "markdown",
   "metadata": {},
   "source": [
    "### 2.3 Results and Normalization\n",
    "\n",
    "If you were being astute, you would have noticed that we never normalized our features -- a big no-no with Nearest Neighbor algorithms.  Write a generic normalization function that takes as input an array of values for a given feature, and returns the normalized array (subtract the mean and divide by the standard deviation).\n",
    "\n",
    "Re-run the Nearest Neighbor algorithm on the normalized dataset (still just using CRIM and RM as input), and compare the RMSE from this method with your previous RMSE evaluations. What do you observe?\n",
    "\n",
    "*NOTE*: To normalize properly, best practice is to compute the mean and standard deviation on the training set, and use these values to normalize the testing dataset. However, for this problem set, it is okay if you separately normalize each dataset using the respective mean and standard deviation.\n",
    "\n",
    "*NOTE 2*: In this case, there might not be a major impact on RMSE; don't get confused if you find that to be the case."
   ]
  },
  {
   "cell_type": "code",
   "execution_count": 10,
   "metadata": {},
   "outputs": [],
   "source": [
    "\"\"\"\n",
    "Function\n",
    "--------\n",
    "normalize\n",
    "\n",
    "Given an array, normalize each column using its mean and standard deviation and returns the array.\n",
    "\n",
    "Parameters\n",
    "----------\n",
    "raw_data : array\n",
    "    Array of data to be normalized. \n",
    "\n",
    "Returns\n",
    "-------\n",
    "normalized_data : array\n",
    "    Array of normalized data.\n",
    "\"\"\"\n",
    "def normalize(raw_data):\n",
    "    normalized_data = (raw_data - np.mean(raw_data))/np.std(raw_data)\n",
    "    return normalized_data"
   ]
  },
  {
   "cell_type": "code",
   "execution_count": 11,
   "metadata": {},
   "outputs": [
    {
     "name": "stdout",
     "output_type": "stream",
     "text": [
      "Time taken: 0.09070 seconds\n",
      "Time taken: 0.71557 seconds\n",
      "The test RMSE is : 7.861322545021464\n",
      "The training RMSE (second lowest) is: 6.450418284080805\n"
     ]
    }
   ],
   "source": [
    "df_train_X = pd.DataFrame(normalize(df_train_X))\n",
    "df_test_X = pd.DataFrame(normalize(df_test_X))\n",
    "\n",
    "test_rmse, predicted_test = nneighbor(df_train_X, df_test_X, df_train_y, df_test_y, 0, 2)\n",
    "training_rmse, predicted_train = nneighbor(df_train_X, df_test_X, df_train_y, df_test_y, 1, 2)\n",
    "print('The test RMSE is :', test_rmse)\n",
    "print('The training RMSE (second lowest) is:', training_rmse)"
   ]
  },
  {
   "cell_type": "markdown",
   "metadata": {},
   "source": [
    "**Section 2.3** \n",
    "\n",
    "**Answers :**\n",
    "\n",
    "After normalizing the dataset, we obtain a test RMSE of 7.86, which is similar to the value of 7.71 obtained when we used the non-normalized dataset. Similarly, we obtain a training RMSE (second lowest) of 6.45, which is very close to the value of 6.59 obtained using the non-normalized dataset. Indeed, there is no major impact on RMSE in this case."
   ]
  },
  {
   "cell_type": "markdown",
   "metadata": {},
   "source": [
    "### 2.4 Optimization\n",
    "\n",
    "A lot of the decisions we've made so far have been arbitrary.  Try to increase the performance of your nearest neighbor algorithm by adding features that you think might be relevant, and by using different values of L in the distance function.  Try a model that uses a different set of 2 features, then try at least one model that uses more than 4 features, then try using a different value of L.  If you're having fun, try a few different combinations of features and L!\n",
    "\n",
    "What combination of features and distance function provide the lowest RMSE?  Do your decisions affect the running time of the algorithm?\n",
    "\n",
    "*NOTE:* For this and all subsequent questions, you should use normalized features"
   ]
  },
  {
   "cell_type": "markdown",
   "metadata": {},
   "source": [
    "**Here, we investigate using a new set of feature pair: ['LSTAT','TAX'] for values of L = [1,2,3,4,5,6,7,8,9,10,11]**"
   ]
  },
  {
   "cell_type": "code",
   "execution_count": 12,
   "metadata": {
    "scrolled": false
   },
   "outputs": [
    {
     "name": "stdout",
     "output_type": "stream",
     "text": [
      "Current Value of L:  1\n",
      "Time taken: 0.06327 seconds\n",
      "Time taken: 0.62072 seconds\n",
      "\n",
      "\n",
      "Current Value of L:  2\n",
      "Time taken: 0.06400 seconds\n",
      "Time taken: 1.25410 seconds\n",
      "\n",
      "\n",
      "Current Value of L:  3\n",
      "Time taken: 0.17250 seconds\n",
      "Time taken: 1.40997 seconds\n",
      "\n",
      "\n",
      "Current Value of L:  4\n",
      "Time taken: 0.18292 seconds\n",
      "Time taken: 1.25900 seconds\n",
      "\n",
      "\n",
      "Current Value of L:  5\n",
      "Time taken: 0.12163 seconds\n",
      "Time taken: 1.31545 seconds\n",
      "\n",
      "\n",
      "Current Value of L:  6\n",
      "Time taken: 0.17135 seconds\n",
      "Time taken: 1.22284 seconds\n",
      "\n",
      "\n",
      "Current Value of L:  7\n",
      "Time taken: 0.12150 seconds\n",
      "Time taken: 1.27678 seconds\n",
      "\n",
      "\n",
      "Current Value of L:  8\n",
      "Time taken: 0.12191 seconds\n",
      "Time taken: 1.28294 seconds\n",
      "\n",
      "\n",
      "Current Value of L:  9\n",
      "Time taken: 0.15228 seconds\n",
      "Time taken: 0.93539 seconds\n",
      "\n",
      "\n",
      "Current Value of L:  10\n",
      "Time taken: 0.09847 seconds\n",
      "Time taken: 0.70769 seconds\n",
      "\n",
      "\n",
      "Current Value of L:  11\n",
      "Time taken: 0.07254 seconds\n",
      "Time taken: 0.60458 seconds\n",
      "\n",
      "\n",
      "\n",
      "Test RMSE for L = [1:11] :  [7.0726135724425125, 7.155314766784526, 7.084642324263455, 7.087271108452525, 6.8233379790591195, 6.8183144372129005, 6.8183144372129005, 6.840228467689955, 6.840228467689955, 6.548476847298755, 6.548476847298755]\n",
      "\n",
      "Training RMSE (second lowest) for L = [1:11] :  [6.330276533461948, 6.420226392479712, 6.443553459708301, 6.467584824750777, 6.441159802703268, 6.441159802703268, 6.4408043283459255, 6.446643151345674, 6.446643151345674, 6.446643151345674, 6.446643151345674]\n"
     ]
    }
   ],
   "source": [
    "features = ['LSTAT','TAX']\n",
    "L = [i for i in range(1,12)]\n",
    "\n",
    "test_vec = []\n",
    "train_vec = []\n",
    "\n",
    "df_train_X = pd.DataFrame(normalize(bdata_train.loc[:,features]))\n",
    "df_test_X = pd.DataFrame(normalize(bdata_test.loc[:,features]))\n",
    "df_train_y = pd.DataFrame(bdata_train.loc[:,'MEDV'])\n",
    "df_test_y = pd.DataFrame(bdata_test.loc[:,'MEDV'])\n",
    "\n",
    "for j in range(len(L)):\n",
    "    \n",
    "    print('Current Value of L: ', L[j])\n",
    "    test_rmse, predicted_test = nneighbor(df_train_X, df_test_X, df_train_y, df_test_y, 0, L[j])\n",
    "    training_rmse, predicted_train = nneighbor(df_train_X, df_test_X, df_train_y, df_test_y, 1, L[j])\n",
    "    test_vec.append(test_rmse)\n",
    "    train_vec.append(training_rmse)\n",
    "    print('\\n')\n",
    "\n",
    "print('\\nTest RMSE for L = [1:11] : ', test_vec)\n",
    "print('\\nTraining RMSE (second lowest) for L = [1:11] : ', train_vec)"
   ]
  },
  {
   "cell_type": "markdown",
   "metadata": {},
   "source": [
    "**Here, we investigate using a new set of feature pair: ['LSTAT','CRIM','RM','NOX','LSTAT'] for values of L = [1,2,3,4,5]**"
   ]
  },
  {
   "cell_type": "code",
   "execution_count": 13,
   "metadata": {},
   "outputs": [
    {
     "name": "stdout",
     "output_type": "stream",
     "text": [
      "Current Value of L:  1\n",
      "Time taken: 0.06101 seconds\n",
      "Time taken: 0.54289 seconds\n",
      "\n",
      "\n",
      "Current Value of L:  2\n",
      "Time taken: 0.05383 seconds\n",
      "Time taken: 0.60889 seconds\n",
      "\n",
      "\n",
      "Current Value of L:  3\n",
      "Time taken: 0.14207 seconds\n",
      "Time taken: 1.27063 seconds\n",
      "\n",
      "\n",
      "Current Value of L:  4\n",
      "Time taken: 0.20148 seconds\n",
      "Time taken: 1.28433 seconds\n",
      "\n",
      "\n",
      "Current Value of L:  5\n",
      "Time taken: 0.15412 seconds\n",
      "Time taken: 1.30450 seconds\n",
      "\n",
      "\n",
      "\n",
      "Test RMSE for L = [1:5] :  [4.359843494222889, 5.373610171431288, 5.440966609625428, 5.532860835011833, 5.561130862566374]\n",
      "\n",
      "Training RMSE (second lowest) for L = [1:5] :  [4.612576973518563, 4.77967799984248, 4.796525660917659, 4.814242483825395, 4.781668791922289]\n"
     ]
    }
   ],
   "source": [
    "features = ['LSTAT','CRIM','RM','NOX','CHAS', 'DIS']\n",
    "L = [i for i in range(1,6)]\n",
    "\n",
    "test_vec = []\n",
    "train_vec = []\n",
    "\n",
    "df_train_X = pd.DataFrame(normalize(bdata_train.loc[:,features]))\n",
    "df_test_X = pd.DataFrame(normalize(bdata_test.loc[:,features]))\n",
    "df_train_y = pd.DataFrame(bdata_train.loc[:,'MEDV'])\n",
    "df_test_y = pd.DataFrame(bdata_test.loc[:,'MEDV'])\n",
    "\n",
    "for j in range(len(L)):\n",
    "    \n",
    "    print('Current Value of L: ', L[j])\n",
    "    test_rmse, predicted_test = nneighbor(df_train_X, df_test_X, df_train_y, df_test_y, 0, L[j])\n",
    "    training_rmse, predicted_train = nneighbor(df_train_X, df_test_X, df_train_y, df_test_y, 1, L[j])\n",
    "    test_vec.append(test_rmse)\n",
    "    train_vec.append(training_rmse)\n",
    "    print('\\n')\n",
    "\n",
    "print('\\nTest RMSE for L = [1:5] : ', test_vec)\n",
    "print('\\nTraining RMSE (second lowest) for L = [1:5] : ', train_vec)"
   ]
  },
  {
   "cell_type": "markdown",
   "metadata": {},
   "source": [
    "**Here, we investigate using all available features for values of L = [1,2,3,4,5,6]**"
   ]
  },
  {
   "cell_type": "code",
   "execution_count": 14,
   "metadata": {},
   "outputs": [
    {
     "name": "stdout",
     "output_type": "stream",
     "text": [
      "Current Value of L:  1\n",
      "Time taken: 0.15373 seconds\n",
      "Time taken: 1.18772 seconds\n",
      "\n",
      "\n",
      "Current Value of L:  2\n",
      "Time taken: 0.15502 seconds\n",
      "Time taken: 1.06600 seconds\n",
      "\n",
      "\n",
      "Current Value of L:  3\n",
      "Time taken: 0.14560 seconds\n",
      "Time taken: 0.89871 seconds\n",
      "\n",
      "\n",
      "Current Value of L:  4\n",
      "Time taken: 0.12116 seconds\n",
      "Time taken: 0.99197 seconds\n",
      "\n",
      "\n",
      "Current Value of L:  5\n",
      "Time taken: 0.14359 seconds\n",
      "Time taken: 1.32691 seconds\n",
      "\n",
      "\n",
      "\n",
      "Test RMSE for L = [1:5] :  [5.02399146058972, 4.671608028144854, 4.658273264195819, 4.618971959298337, 5.535332145480009]\n",
      "\n",
      "Training RMSE (second lowest) for L = [1:5] :  [4.816447686504202, 4.558500383083702, 4.409603605812663, 4.424677646702381, 4.483294072729811]\n"
     ]
    }
   ],
   "source": [
    "features = list(bdata_train.columns)[:-1] #remove 'MEDV' column \n",
    "L = [i for i in range(1,6)]\n",
    "\n",
    "test_vec = []\n",
    "train_vec = []\n",
    "\n",
    "df_train_X = pd.DataFrame(normalize(bdata_train.loc[:,features]))\n",
    "df_test_X = pd.DataFrame(normalize(bdata_test.loc[:,features]))\n",
    "df_train_y = pd.DataFrame(bdata_train.loc[:,'MEDV'])\n",
    "df_test_y = pd.DataFrame(bdata_test.loc[:,'MEDV'])\n",
    "\n",
    "for j in range(len(L)):\n",
    "    \n",
    "    print('Current Value of L: ', L[j])\n",
    "    test_rmse, predicted_test = nneighbor(df_train_X, df_test_X, df_train_y, df_test_y, 0, L[j])\n",
    "    training_rmse, predicted_train = nneighbor(df_train_X, df_test_X, df_train_y, df_test_y, 1, L[j])\n",
    "    test_vec.append(test_rmse)\n",
    "    train_vec.append(training_rmse)\n",
    "    print('\\n')\n",
    "\n",
    "print('\\nTest RMSE for L = [1:5] : ', test_vec)\n",
    "print('\\nTraining RMSE (second lowest) for L = [1:5] : ', train_vec)"
   ]
  },
  {
   "cell_type": "markdown",
   "metadata": {},
   "source": [
    "**Section 2.4** \n",
    "\n",
    "**Answers :**\n",
    "\n",
    "Here, we pick ['LSTAT','TAX'] as our new set of 2 features for median house value prediction. Using this feature pair and L = [1:11], the lowest RMSE obtained is when L = 10, where we obtain a test RMSE of 6.55. Note that a wider range of L was used in this case so we can observe the test RMSE remaining at ~6.55 for L >= 10.\n",
    "\n",
    "In addition, we assessed the performance of using feature set ['LSTAT','CRIM','RM','NOX','CHAS','DIS'] for L = [1:5], and was able to achieve a minimum test RMSE of 4.36 when L = 1. \n",
    "\n",
    "Out of curiosity, we consider all available predictive values for L = [1:5]. In this case, we obtain a test RMSE of 4.62 for when L = 4. \n",
    "\n",
    "From the prediction times, increasing the number of features considered increases the running time of the algorithm. However, changing the value of L has a negligible effect on execution time. "
   ]
  },
  {
   "cell_type": "markdown",
   "metadata": {},
   "source": [
    "### 2.5 Cross-Validation\n",
    "\n",
    "The more you tinkered with your features and distance function, the higher the risk that you overfit your training data.  One solution to this sort of overfitting is to use cross-validation (see K-fold [cross-validation][1].  Here you must implement a simple k-fold cross-validation algorithm yourself.  The function you write here will be used several more times in this problem set, so do your best to write efficient code! (Note that the sklearn package has a built-in [K-fold][2] iterator -- you should *not* be invoking that or any related algorithms in this section of the problem set.)\n",
    "\n",
    "Use 10-fold cross-validation and report the average RMSE for Nearest Neighbors using Euclidean distance with CRIM and RM input features, as well as the total running time for the full run of 10 folds.  In other words, randomly divide your dataset into 10 equally-sized samples, and for each of 10 iterations (the \"folds\"), use 9 samples as \"training data\" (even though there is no training in k-NN!), and the remaining 1 sample for testing.  Compute the RMSE of that particular test set, then move on to the next iteration.  Report the average RMSE across the 10 iterations. What do you observe?\n",
    "[1]: http://en.wikipedia.org/wiki/Cross-validation_(statistics)\n",
    "[2]: http://scikit-learn.org/stable/modules/cross_validation.html#cross-validation"
   ]
  },
  {
   "cell_type": "code",
   "execution_count": 15,
   "metadata": {},
   "outputs": [],
   "source": [
    "\"\"\"\n",
    "Function\n",
    "--------\n",
    "k_fold :\n",
    "\n",
    "Given a data array and k, return two lists of indices, one for training and one for test. \n",
    "\n",
    "Parameters\n",
    "----------\n",
    "X : DataFrame\n",
    "    The dataset on which k-fold cross-validation is performed. \n",
    "    \n",
    "k : int \n",
    "    THe number of folds for k-fold cross-validation.\n",
    "\n",
    "Returns\n",
    "-------\n",
    "(k_train, k_test) : lists\n",
    "    Two lists of indices, one for training and one for test. Each list contains k lists. \n",
    "\"\"\"\n",
    "def k_fold(X, kfold):\n",
    "    dataset = X.copy()\n",
    "    fold_size = int(len(dataset.iloc[:,0])/kfold)\n",
    "    index = dataset.index\n",
    "    index_c = index.copy()  \n",
    "    \n",
    "    k_train = []\n",
    "    k_test = []\n",
    "\n",
    "    for i in range(kfold):\n",
    "        idx = np.random.choice(index_c,fold_size, replace = False)\n",
    "        k_test.append(list(idx))\n",
    "        k_train.append(list(set(index) - set(list(idx))))\n",
    "        index_c = list(set(index_c) - set(list(idx)))\n",
    "\n",
    "    return (k_train, k_test)"
   ]
  },
  {
   "cell_type": "code",
   "execution_count": 16,
   "metadata": {},
   "outputs": [
    {
     "name": "stdout",
     "output_type": "stream",
     "text": [
      "Time taken: 0.04271 seconds\n",
      "Time taken: 0.05514 seconds\n",
      "Time taken: 0.04797 seconds\n",
      "Time taken: 0.03908 seconds\n",
      "Time taken: 0.05672 seconds\n",
      "Time taken: 0.04797 seconds\n",
      "Time taken: 0.04897 seconds\n",
      "Time taken: 0.04597 seconds\n",
      "Time taken: 0.02269 seconds\n",
      "Time taken: 0.03125 seconds\n",
      "\n",
      "Average k-fold RMSE: 7.2170571376717545\n",
      "\n",
      "Total Time Taken: 0.4770956039428711 seconds\n"
     ]
    }
   ],
   "source": [
    "\"\"\"\n",
    "Adjustable Parameters\n",
    "\"\"\"\n",
    "kfold = 10\n",
    "features = ['CRIM', 'RM']\n",
    "L = 2\n",
    "\"\"\"\n",
    "main\n",
    "\"\"\"\n",
    "import random\n",
    "import time\n",
    "np.random.seed(seed=13579)\n",
    "X = pd.DataFrame(bdata.data, columns = bdata.feature_names)\n",
    "y = pd.DataFrame(bdata.target, columns = ['MEDV'])\n",
    "\n",
    "dataset = pd.DataFrame(normalize(X.loc[:,features]))\n",
    "(k_train, k_test) = k_fold(dataset, kfold)\n",
    "k_fold_rmse = []\n",
    "\n",
    "start_time = time.time()\n",
    "for i in range(kfold):\n",
    "    \n",
    "    k_test_rmse, predicted_test = nneighbor(dataset.iloc[k_train[i],:], dataset.iloc[k_test[i],:], y.iloc[k_train[i],:], y.iloc[k_test[i],:], 0, L)\n",
    "    k_fold_rmse.append(k_test_rmse)\n",
    "    \n",
    "print('\\nAverage k-fold RMSE:', np.mean(k_fold_rmse))\n",
    "print('\\nTotal Time Taken:', time.time() - start_time, 'seconds')"
   ]
  },
  {
   "cell_type": "markdown",
   "metadata": {},
   "source": [
    "**Section 2.5**\n",
    "\n",
    "**Answers :**\n",
    "\n",
    "We performed 10-fold cross validation using the basic nearest neighbor algorithm and obtained an average 10-fold RMSE of approximately 7.22. The total time taken for this computation is approximately 0.4 - 0.6 seconds (varies with each execution). \n",
    "\n",
    "We note that the 10-fold RMSE of 7.22 is similar to the 7.86 obtained when we merely split the normalized dataset into the training set (80%) and the test set (20%). Theoretically, it is arguable that the 10-fold RMSE is more representative of the predictive performance of the basic nearest neighbor algorithm. "
   ]
  },
  {
   "cell_type": "markdown",
   "metadata": {},
   "source": [
    "### 2.6 K-Nearest Neighbors Algorithm\n",
    "\n",
    "Implement the K-Nearest Neighbors algorithm.  Using 10-fold cross validation and L2 normalization, report the RMSE for K=3 and the running time of the algorithm."
   ]
  },
  {
   "cell_type": "code",
   "execution_count": 17,
   "metadata": {},
   "outputs": [],
   "source": [
    "\"\"\"\n",
    "Function\n",
    "--------\n",
    "knn (k-Nearest Neighbors)\n",
    "\n",
    "Given a training set containing features and the target, predict target value for each instance in test set using k nearest neighbors.\n",
    "\n",
    "Parameters\n",
    "----------\n",
    "df_train_X, df_train_y : pandas dataframe\n",
    "    Dataframe of values corresponding to predictive features and corresponding predictions.\n",
    "\n",
    "df_test_X, df_test_y : pandas dataframe\n",
    "    Dataframe df_test_X is used to predict df_test_y. df_test_y will be used calculate the RMSE of predicted y values.\n",
    "    \n",
    "trainSet: int (0 or 1)\n",
    "    Report RMSE of train set or test set. '0' selects test set while '1' selects training set.\n",
    "    \n",
    "L: int\n",
    "    Value of L to use in computing distances.\n",
    "\n",
    "Returns\n",
    "-------\n",
    "rmse : float\n",
    "    The RMSE between predicted target values and actual target values. \n",
    "    \n",
    "predicted_y : array\n",
    "    An array of predicted target values.\n",
    "\n",
    "\"\"\"\n",
    "\n",
    "def knn(df_train_X, df_test_X, df_train_y, df_test_y, trainSet, L, K):\n",
    "    #start_time = time.time()\n",
    "    df_X = df_test_X # default is test set\n",
    "    df_Y = df_test_y\n",
    "    if trainSet == 1:\n",
    "        df_X = df_train_X\n",
    "        df_Y = df_train_y\n",
    "        \n",
    "    predicted_y = []\n",
    "                \n",
    "    for i in range(len(df_X)):\n",
    "        dist = list(distance(df_X.iloc[i,:], df_train_X, L))\n",
    "        k_smallest_y = []\n",
    "        \n",
    "        df_train_ydrop = df_train_y.copy()\n",
    "        for i in range(K):\n",
    "            predict = df_train_ydrop.iloc[np.argmin(dist),:][0]\n",
    "            k_smallest_y.append([predict])\n",
    "            df_train_ydrop.drop(df_train_ydrop.index[np.argmin(dist)], inplace = True)\n",
    "            dist.pop(np.argmin(dist))\n",
    "\n",
    "        k_mean_y = np.mean(k_smallest_y)\n",
    "        predicted_y.append([k_mean_y])\n",
    "\n",
    "    rmse = compute_rmse(predicted_y, df_Y)\n",
    "    #print(\"Time taken: {:.5f} seconds\".format(time.time() - start_time))\n",
    "    return rmse, predicted_y\n"
   ]
  },
  {
   "cell_type": "code",
   "execution_count": 18,
   "metadata": {},
   "outputs": [
    {
     "name": "stdout",
     "output_type": "stream",
     "text": [
      "\n",
      "Average k-fold RMSE: 5.750512866078988\n",
      "\n",
      "Total Time Taken: 1.8887627124786377 seconds\n"
     ]
    }
   ],
   "source": [
    "\n",
    "\"\"\" \n",
    "Adjustable Parameters: kfold, L, K, features\n",
    "\"\"\"\n",
    "K = 3\n",
    "L = 2\n",
    "kfold = 10\n",
    "features = ['CRIM','RM']\n",
    "\n",
    "\"\"\"\n",
    "main\n",
    "\"\"\"\n",
    "import time \n",
    "import random\n",
    "np.random.seed(seed=13579)\n",
    "X = pd.DataFrame(bdata.data, columns = bdata.feature_names)\n",
    "y = pd.DataFrame(bdata.target, columns = ['MEDV'])\n",
    "\n",
    "dataset = pd.DataFrame(normalize(X.loc[:,features]))\n",
    "(k_train, k_test) = k_fold(dataset, kfold)\n",
    "k_fold_rmse = []\n",
    "\n",
    "start_time = time.time()\n",
    "for i in range(kfold):\n",
    "    \n",
    "    k_test_rmse, predicted_test = knn(dataset.iloc[k_train[i],:], dataset.iloc[k_test[i],:], y.iloc[k_train[i],:], y.iloc[k_test[i],:], 0, L, K)\n",
    "    k_fold_rmse.append(k_test_rmse)\n",
    "    \n",
    "print('\\nAverage k-fold RMSE:', np.mean(k_fold_rmse))\n",
    "print('\\nTotal Time Taken:', time.time() - start_time, 'seconds')"
   ]
  },
  {
   "cell_type": "markdown",
   "metadata": {},
   "source": [
    "**Section 2.6**\n",
    "\n",
    "**Answers :**\n",
    "\n",
    "Using 10-fold cross-validation, L2 normalization, and K = 3, we obtain an average k-fold RMSE of about 5.75, which is significantly better than the average k-fold RMSE of about 7.22 using basic nearest neighbors. However, the execution time for this process is about 1.89 seconds. "
   ]
  },
  {
   "cell_type": "markdown",
   "metadata": {},
   "source": [
    "### 2.7 Using cross validation to find K\n",
    "\n",
    "What is the best choice of K?  Compute the RMSE for values of K between 1 and 25 using 10-fold cross-validation.  Use the following features in your model, and don't forget to normalize: CRIM, ZN, RM, AGE, DIS, TAX.  Create a graph that shows how RMSE changes as K increases from 1 to 25.  Label your axes, and summarize what you see.  What do you think is a reasonable choice of K for this model?"
   ]
  },
  {
   "cell_type": "code",
   "execution_count": 19,
   "metadata": {
    "scrolled": true
   },
   "outputs": [
    {
     "name": "stdout",
     "output_type": "stream",
     "text": [
      "Average k-fold RMSE for K = [1:25]:\n",
      " [5.877139840363544, 5.399352799509868, 4.8518105373312785, 4.804277584796243, 4.938444222460117, 5.012073348499986, 5.022332223177298, 5.038434048409415, 5.056571981867842, 5.0850621524459525, 5.104636270859297, 5.154671544440587, 5.187520565470206, 5.197388607404805, 5.212834853915199, 5.2089464065467315, 5.236432623064671, 5.224982845414205, 5.256459289397839, 5.293480516277858, 5.332547882455596, 5.350947669181674, 5.369345654434892, 5.407086741563575, 5.414619601612516]\n"
     ]
    }
   ],
   "source": [
    "\"\"\" \n",
    "Adjustable Parameters\n",
    "\"\"\"\n",
    "K = [i for i in range(1,26)]\n",
    "L = 2\n",
    "kfold = 10\n",
    "features = ['CRIM','ZN','RM','AGE','DIS','TAX']\n",
    "\n",
    "\"\"\"\n",
    "main\n",
    "\"\"\"\n",
    "import time \n",
    "import random\n",
    "np.random.seed(seed=13579)\n",
    "\n",
    "# initialize datasets\n",
    "X = pd.DataFrame(bdata.data, columns = bdata.feature_names)\n",
    "y = pd.DataFrame(bdata.target, columns = ['MEDV'])\n",
    "\n",
    "dataset = pd.DataFrame(normalize(X.loc[:,features]))\n",
    "(k_train, k_test) = k_fold(dataset, kfold)\n",
    "K_rmse = []\n",
    "\n",
    "### calculate mean rmse for each K value \n",
    "for i in range(len(K)):\n",
    "    k_fold_rmse = []\n",
    "    \n",
    "### implement knn for every training-test pair\n",
    "    for j in range(kfold):\n",
    "    \n",
    "        k_test_rmse, predicted_test = knn(dataset.iloc[k_train[j],:], dataset.iloc[k_test[j],:], y.iloc[k_train[j],:], y.iloc[k_test[j],:], 0, L, K[i])\n",
    "        k_fold_rmse.append(k_test_rmse)\n",
    "    \n",
    "    K_rmse.append(np.mean(k_fold_rmse))\n",
    "\n",
    "print('Average k-fold RMSE for K = [1:25]:\\n', K_rmse)"
   ]
  },
  {
   "cell_type": "code",
   "execution_count": 20,
   "metadata": {},
   "outputs": [
    {
     "name": "stdout",
     "output_type": "stream",
     "text": [
      "Minimum RMSE occurs at K = 4  where RMSE =  4.804277584796243\n"
     ]
    },
    {
     "data": {
      "image/png": "[encoded data removed]",
      "text/plain": [
       "<matplotlib.figure.Figure at 0x2b5a481d5c0>"
      ]
     },
     "metadata": {},
     "output_type": "display_data"
    }
   ],
   "source": [
    "fig, ax = plt.subplots(figsize = (12,6))\n",
    "ax.plot(K, K_rmse, color = 'blue')\n",
    "ax.set_xlabel('K')\n",
    "ax.set_ylabel('10-fold Cross Validation RMSE')\n",
    "ax.set_title('10-fold CV RMSE against K')\n",
    "print('Minimum RMSE occurs at K =', K[np.argmin(K_rmse)],' where RMSE = ', K_rmse[np.argmin(K_rmse)])"
   ]
  },
  {
   "cell_type": "markdown",
   "metadata": {},
   "source": [
    "**Section 2.7**\n",
    "\n",
    "**Answers: ** \n",
    "\n",
    "As K increases from 1 to 25, it can be observed that the 10-fold cross-validation RMSE decreases before increasing steadily beyond K = 4. As such, the optimal value of K is 4, at which the RMSE is approximately 4.80. "
   ]
  },
  {
   "cell_type": "markdown",
   "metadata": {},
   "source": [
    "### Extra-Credit: Forward selection\n",
    "\n",
    "Thus far the choice of predictor variables has been rather arbitrary. For extra credit, implement a basic [forward selection](http://www.stat.ubc.ca/~rollin/teach/643w04/lec/node41.html) algorithm to progressively include features that decrease the cross-validated RMSE of the model. Note that the optimal value of K may be different for each model, so you may want to use cross-validation to choose K each time (but it is also fine if you fix K at the optimal value from 2.7).  Create a graph that shows RMSE as a function of the number of features in the model. Label each point on the x-axis with the name of the feature that is added at that step in the forward selection algorithm. *(For instance, if the optimal single-feature model has CRIM with RMSE = 10, and the optimal two-feature model has CRIM+ZN with RMSE=9, the first x-axis label will say CRIM and the second x-axis lable with say ZN)*"
   ]
  },
  {
   "cell_type": "code",
   "execution_count": 21,
   "metadata": {},
   "outputs": [
    {
     "name": "stderr",
     "output_type": "stream",
     "text": [
      "D:\\Users\\Jonathan\\Anaconda3\\lib\\site-packages\\statsmodels\\compat\\pandas.py:56: FutureWarning: The pandas.core.datetools module is deprecated and will be removed in a future version. Please use the pandas.tseries module instead.\n",
      "  from pandas.core import datetools\n"
     ]
    },
    {
     "name": "stdout",
     "output_type": "stream",
     "text": [
      "                            OLS Regression Results                            \n",
      "==============================================================================\n",
      "Dep. Variable:                   MEDV   R-squared:                       0.741\n",
      "Model:                            OLS   Adj. R-squared:                  0.734\n",
      "Method:                 Least Squares   F-statistic:                     108.1\n",
      "Date:                Mon, 01 Oct 2018   Prob (F-statistic):          6.95e-135\n",
      "Time:                        20:52:02   Log-Likelihood:                -1498.8\n",
      "No. Observations:                 506   AIC:                             3026.\n",
      "Df Residuals:                     492   BIC:                             3085.\n",
      "Df Model:                          13                                         \n",
      "Covariance Type:            nonrobust                                         \n",
      "==============================================================================\n",
      "                 coef    std err          t      P>|t|      [0.025      0.975]\n",
      "------------------------------------------------------------------------------\n",
      "Intercept     36.4911      5.104      7.149      0.000      26.462      46.520\n",
      "CRIM          -0.1072      0.033     -3.276      0.001      -0.171      -0.043\n",
      "ZN             0.0464      0.014      3.380      0.001       0.019       0.073\n",
      "INDUS          0.0209      0.061      0.339      0.735      -0.100       0.142\n",
      "CHAS           2.6886      0.862      3.120      0.002       0.996       4.381\n",
      "NOX          -17.7958      3.821     -4.658      0.000     -25.302     -10.289\n",
      "RM             3.8048      0.418      9.102      0.000       2.983       4.626\n",
      "AGE            0.0008      0.013      0.057      0.955      -0.025       0.027\n",
      "DIS           -1.4758      0.199     -7.398      0.000      -1.868      -1.084\n",
      "RAD            0.3057      0.066      4.608      0.000       0.175       0.436\n",
      "TAX           -0.0123      0.004     -3.278      0.001      -0.020      -0.005\n",
      "PTRATIO       -0.9535      0.131     -7.287      0.000      -1.211      -0.696\n",
      "B              0.0094      0.003      3.500      0.001       0.004       0.015\n",
      "LSTAT         -0.5255      0.051    -10.366      0.000      -0.625      -0.426\n",
      "==============================================================================\n",
      "Omnibus:                      178.029   Durbin-Watson:                   1.078\n",
      "Prob(Omnibus):                  0.000   Jarque-Bera (JB):              782.015\n",
      "Skew:                           1.521   Prob(JB):                    1.54e-170\n",
      "Kurtosis:                       8.276   Cond. No.                     1.51e+04\n",
      "==============================================================================\n",
      "\n",
      "Warnings:\n",
      "[1] Standard Errors assume that the covariance matrix of the errors is correctly specified.\n",
      "[2] The condition number is large, 1.51e+04. This might indicate that there are\n",
      "strong multicollinearity or other numerical problems.\n"
     ]
    }
   ],
   "source": [
    "import statsmodels.api as sm\n",
    "import statsmodels.formula.api as smf\n",
    "\n",
    "# to estimate relative importance of features\n",
    "df1 = pd.DataFrame(bdata.data, columns = bdata.feature_names)\n",
    "df1['MEDV'] = pd.DataFrame(bdata.target)\n",
    "lin_model = smf.ols(formula = 'MEDV ~ CRIM + ZN + INDUS + CHAS + NOX + RM + AGE + DIS + RAD + TAX + PTRATIO + B + LSTAT', data = df1).fit()\n",
    "print(lin_model.summary())\n"
   ]
  },
  {
   "cell_type": "code",
   "execution_count": 22,
   "metadata": {},
   "outputs": [
    {
     "name": "stdout",
     "output_type": "stream",
     "text": [
      "Average 10-fold cross-validation RMSE (with each additional feature): \n",
      "\n",
      " [6.589356001283311, 5.187837064918802, 5.32971679127593, 4.873082584055756, 3.422382337418898, 3.860821227400959, 3.5974809623075688, 3.747456478559144, 3.6678171734167924, 3.645859967047984, 4.123861169321837, 4.3740580849604065, 4.270517779848782]\n"
     ]
    }
   ],
   "source": [
    "\"\"\"\n",
    "Adjustable Parameters\n",
    "\"\"\"\n",
    "K = 4 # based on Section 2.7\n",
    "kfold = 10\n",
    "L = 2\n",
    "features = ['NOX','RM','DIS','PTRATIO','LSTAT','RAD','CRIM','ZN','TAX','B','CHAS','INDUS','AGE'] #ordered based on p-values\n",
    "\n",
    "\"\"\"\n",
    "main\n",
    "\"\"\"\n",
    "import time\n",
    "import random\n",
    "np.random.seed(seed=13579)\n",
    "\n",
    "#initialize datasets\n",
    "X = pd.DataFrame(bdata.data, columns = bdata.feature_names)\n",
    "y = pd.DataFrame(bdata.target)\n",
    "\n",
    "#calculate k-fold RMSE for each additional feature\n",
    "features_rmse = []\n",
    "for j in range(1,len(features)+1):\n",
    "    dataset = pd.DataFrame(normalize(X.loc[:,features[0:j]]))\n",
    "    (k_train, k_test) = k_fold(dataset, kfold)\n",
    "    k_fold_rmse = []\n",
    "\n",
    "    ### implement knn for every training-test pair\n",
    "    for i in range(kfold):\n",
    "\n",
    "        k_test_rmse, predicted_test = knn(dataset.iloc[k_train[i],:], dataset.iloc[k_test[i],:], y.iloc[k_train[i],:], y.iloc[k_test[i],:], 0, L, K)\n",
    "        k_fold_rmse.append(k_test_rmse)\n",
    "\n",
    "    features_rmse.append(np.mean(k_fold_rmse))\n",
    "\n",
    "print('Average 10-fold cross-validation RMSE (with each additional feature): \\n\\n', features_rmse)"
   ]
  },
  {
   "cell_type": "code",
   "execution_count": 23,
   "metadata": {},
   "outputs": [
    {
     "data": {
      "text/plain": [
       "Text(0.5,1,'Forward Selection: 10-fold CV RMSE Against Additional Feature')"
      ]
     },
     "execution_count": 23,
     "metadata": {},
     "output_type": "execute_result"
    },
    {
     "data": {
      "image/png": "[encoded data removed]",
      "text/plain": [
       "<matplotlib.figure.Figure at 0x2b5a515a358>"
      ]
     },
     "metadata": {},
     "output_type": "display_data"
    }
   ],
   "source": [
    "x = [i for i in range(len(features))]\n",
    "fig, ax = plt.subplots(figsize = (12,6))\n",
    "ax.plot(features_rmse, color = 'blue')\n",
    "plt.xticks(x,features)\n",
    "ax.set_xlabel('Feature')\n",
    "ax.set_ylabel('10-fold Cross Validation RMSE')\n",
    "ax.set_title('Forward Selection: 10-fold CV RMSE Against Additional Feature')"
   ]
  },
  {
   "cell_type": "markdown",
   "metadata": {},
   "source": [
    "**Section 2.7**\n",
    "\n",
    "**Answers :**\n",
    "\n",
    "Using results obtained from the OLS regression implementation, the predictive features were ranked according to their significance, starting with the most significant : ['NOX','RM','DIS','PTRATIO','LSTAT','RAD','CRIM','ZN','TAX','B','CHAS','INDUS','AGE']. We fix the value of K = 4, as determined from Section 2.6 so as to improve the efficiency of this implementation. Evidently, the 10-fold cross-validation RMSE decreases generally with each additional feature introduced to the model. \n",
    "\n",
    "For this particular sequence of feature addition, we find that the least RMSE can be obtained when the features used are ['NOX','RM','DIS',PTRATIO','LSTAT']. In this case, we obtain an RMSE of about 3.42. \n",
    "\n"
   ]
  }
 ],
 "metadata": {
  "kernelspec": {
   "display_name": "Python 3",
   "language": "python",
   "name": "python3"
  },
  "language_info": {
   "codemirror_mode": {
    "name": "ipython",
    "version": 3
   },
   "file_extension": ".py",
   "mimetype": "text/x-python",
   "name": "python",
   "nbconvert_exporter": "python",
   "pygments_lexer": "ipython3",
   "version": "3.6.4"
  }
 },
 "nbformat": 4,
 "nbformat_minor": 1
}
